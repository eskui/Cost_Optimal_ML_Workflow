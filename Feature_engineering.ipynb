{
 "cells": [
  {
   "cell_type": "code",
   "execution_count": 1,
   "id": "81b2a69b-f814-46e5-aebf-0adc6c35b9a3",
   "metadata": {},
   "outputs": [],
   "source": [
    "import numpy as np\n",
    "import pandas as pd\n",
    "import os\n",
    "import tensorflow as tf\n",
    "from datetime import datetime\n",
    "from datetime import timedelta\n",
    "import re\n",
    "from sklearn.preprocessing import MinMaxScaler\n",
    "from sklearn.impute import SimpleImputer\n",
    "import matplotlib.pyplot as plt\n",
    "import support.ts_class as ts_class\n",
    "import support.load_and_process_data as lpdata\n",
    "import sys"
   ]
  },
  {
   "cell_type": "code",
   "execution_count": 2,
   "id": "e1eb5e57-b1dc-48dd-939f-2d3f96145a3b",
   "metadata": {},
   "outputs": [],
   "source": [
    "import pyspark.sql.functions as F\n",
    "from pyspark.sql import Window"
   ]
  },
  {
   "cell_type": "code",
   "execution_count": 3,
   "id": "4a7e75dd-cf0f-440c-b1e5-08c9625fa48f",
   "metadata": {},
   "outputs": [],
   "source": [
    "import warnings\n",
    "warnings.filterwarnings('ignore')"
   ]
  },
  {
   "cell_type": "code",
   "execution_count": 4,
   "id": "6f10096c-4e9d-4c20-b870-7bd8deef9212",
   "metadata": {},
   "outputs": [],
   "source": [
    "from importlib import reload\n",
    "ts_class = reload(ts_class)\n",
    "lpdata = reload(lpdata)"
   ]
  },
  {
   "cell_type": "code",
   "execution_count": 5,
   "id": "a76241c3-6581-42bc-a203-db567591edf6",
   "metadata": {},
   "outputs": [
    {
     "name": "stderr",
     "output_type": "stream",
     "text": [
      "WARNING: An illegal reflective access operation has occurred\n",
      "WARNING: Illegal reflective access by org.apache.spark.unsafe.Platform (file:/opt/anaconda3/envs/traiding_spark_delta/lib/python3.9/site-packages/pyspark/jars/spark-unsafe_2.12-3.2.0.jar) to constructor java.nio.DirectByteBuffer(long,int)\n",
      "WARNING: Please consider reporting this to the maintainers of org.apache.spark.unsafe.Platform\n",
      "WARNING: Use --illegal-access=warn to enable warnings of further illegal reflective access operations\n",
      "WARNING: All illegal access operations will be denied in a future release\n"
     ]
    },
    {
     "name": "stdout",
     "output_type": "stream",
     "text": [
      ":: loading settings :: url = jar:file:/opt/anaconda3/envs/traiding_spark_delta/lib/python3.9/site-packages/pyspark/jars/ivy-2.5.0.jar!/org/apache/ivy/core/settings/ivysettings.xml\n"
     ]
    },
    {
     "name": "stderr",
     "output_type": "stream",
     "text": [
      "Ivy Default Cache set to: /Users/esak/.ivy2/cache\n",
      "The jars for the packages stored in: /Users/esak/.ivy2/jars\n",
      "io.delta#delta-core_2.12 added as a dependency\n",
      ":: resolving dependencies :: org.apache.spark#spark-submit-parent-9d9813c8-4557-45b4-a054-158b5427617e;1.0\n",
      "\tconfs: [default]\n",
      "\tfound io.delta#delta-core_2.12;1.2.1 in central\n",
      "\tfound io.delta#delta-storage;1.2.1 in central\n",
      "\tfound org.antlr#antlr4-runtime;4.8 in central\n",
      "\tfound org.codehaus.jackson#jackson-core-asl;1.9.13 in central\n",
      ":: resolution report :: resolve 245ms :: artifacts dl 10ms\n",
      "\t:: modules in use:\n",
      "\tio.delta#delta-core_2.12;1.2.1 from central in [default]\n",
      "\tio.delta#delta-storage;1.2.1 from central in [default]\n",
      "\torg.antlr#antlr4-runtime;4.8 from central in [default]\n",
      "\torg.codehaus.jackson#jackson-core-asl;1.9.13 from central in [default]\n",
      "\t---------------------------------------------------------------------\n",
      "\t|                  |            modules            ||   artifacts   |\n",
      "\t|       conf       | number| search|dwnlded|evicted|| number|dwnlded|\n",
      "\t---------------------------------------------------------------------\n",
      "\t|      default     |   4   |   0   |   0   |   0   ||   4   |   0   |\n",
      "\t---------------------------------------------------------------------\n",
      ":: retrieving :: org.apache.spark#spark-submit-parent-9d9813c8-4557-45b4-a054-158b5427617e\n",
      "\tconfs: [default]\n",
      "\t0 artifacts copied, 4 already retrieved (0kB/5ms)\n",
      "22/10/31 18:42:44 WARN NativeCodeLoader: Unable to load native-hadoop library for your platform... using builtin-java classes where applicable\n",
      "Using Spark's default log4j profile: org/apache/spark/log4j-defaults.properties\n",
      "Setting default log level to \"WARN\".\n",
      "To adjust logging level use sc.setLogLevel(newLevel). For SparkR, use setLogLevel(newLevel).\n"
     ]
    }
   ],
   "source": [
    "import pyspark\n",
    "from delta import *\n",
    "\n",
    "builder = pyspark.sql.SparkSession.builder.appName(\"MyApp\") \\\n",
    "    .config(\"spark.sql.extensions\", \"io.delta.sql.DeltaSparkSessionExtension\") \\\n",
    "    .config(\"spark.sql.catalog.spark_catalog\", \"org.apache.spark.sql.delta.catalog.DeltaCatalog\")\n",
    "\n",
    "spark = configure_spark_with_delta_pip(builder).getOrCreate()"
   ]
  },
  {
   "cell_type": "code",
   "execution_count": 6,
   "id": "7d0a7026-cae9-4de8-8d90-1dcab6ba63b5",
   "metadata": {},
   "outputs": [
    {
     "name": "stderr",
     "output_type": "stream",
     "text": [
      "WARNING:root:'PYARROW_IGNORE_TIMEZONE' environment variable was not set. It is required to set this environment variable to '1' in both driver and executor sides if you use pyarrow>=2.0.0. pandas-on-Spark will set it for you but it does not work if there is a Spark context already launched.\n"
     ]
    }
   ],
   "source": [
    "from delta.tables import *\n",
    "from pyspark.sql.types import *\n",
    "from pyspark.sql.functions import *\n",
    "import pyspark.pandas as ps"
   ]
  },
  {
   "cell_type": "code",
   "execution_count": 7,
   "id": "4f922f08-cd79-4b94-8926-cf4abc224f68",
   "metadata": {},
   "outputs": [],
   "source": [
    "datasets_path = \"/Users/esak/Projects/stock_traiding/forecast_indices/datasets/\"\n",
    "train_data_path = \"/Users/esak/Projects/stock_traiding/forecast_indices/train_data/\""
   ]
  },
  {
   "cell_type": "code",
   "execution_count": 8,
   "id": "1b0cff78-ffca-4536-a17a-bd1f36a8d086",
   "metadata": {},
   "outputs": [],
   "source": [
    "TODAY = datetime.today().strftime('%Y-%m-%d')\n",
    "START_DATE = '2009-01-01 00:00:00'\n",
    "END_DATE = TODAY+' 23:59:59'"
   ]
  },
  {
   "cell_type": "code",
   "execution_count": 9,
   "id": "4c0eff7b-993c-4536-8b18-7ba136a6177d",
   "metadata": {},
   "outputs": [],
   "source": [
    "date_range = pd.DataFrame(data=[], index=pd.date_range(START_DATE,END_DATE, freq=\"min\",name=\"Datetime\")).reset_index()"
   ]
  },
  {
   "cell_type": "code",
   "execution_count": 10,
   "id": "0b49d67f-3139-4595-8284-79fc2b450268",
   "metadata": {},
   "outputs": [],
   "source": [
    "date_range[\"Datetime\"] = pd.Series(date_range[\"Datetime\"].dt.to_pydatetime(), dtype=object)"
   ]
  },
  {
   "cell_type": "code",
   "execution_count": 11,
   "id": "786543dc-db7e-4cdb-aff0-380b08f7f650",
   "metadata": {},
   "outputs": [
    {
     "data": {
      "text/html": [
       "<div>\n",
       "<style scoped>\n",
       "    .dataframe tbody tr th:only-of-type {\n",
       "        vertical-align: middle;\n",
       "    }\n",
       "\n",
       "    .dataframe tbody tr th {\n",
       "        vertical-align: top;\n",
       "    }\n",
       "\n",
       "    .dataframe thead th {\n",
       "        text-align: right;\n",
       "    }\n",
       "</style>\n",
       "<table border=\"1\" class=\"dataframe\">\n",
       "  <thead>\n",
       "    <tr style=\"text-align: right;\">\n",
       "      <th></th>\n",
       "      <th>Datetime</th>\n",
       "    </tr>\n",
       "  </thead>\n",
       "  <tbody>\n",
       "    <tr>\n",
       "      <th>0</th>\n",
       "      <td>2009-01-01 00:00:00</td>\n",
       "    </tr>\n",
       "    <tr>\n",
       "      <th>1</th>\n",
       "      <td>2009-01-01 00:01:00</td>\n",
       "    </tr>\n",
       "    <tr>\n",
       "      <th>2</th>\n",
       "      <td>2009-01-01 00:02:00</td>\n",
       "    </tr>\n",
       "    <tr>\n",
       "      <th>3</th>\n",
       "      <td>2009-01-01 00:03:00</td>\n",
       "    </tr>\n",
       "    <tr>\n",
       "      <th>4</th>\n",
       "      <td>2009-01-01 00:04:00</td>\n",
       "    </tr>\n",
       "  </tbody>\n",
       "</table>\n",
       "</div>"
      ],
      "text/plain": [
       "              Datetime\n",
       "0  2009-01-01 00:00:00\n",
       "1  2009-01-01 00:01:00\n",
       "2  2009-01-01 00:02:00\n",
       "3  2009-01-01 00:03:00\n",
       "4  2009-01-01 00:04:00"
      ]
     },
     "execution_count": 11,
     "metadata": {},
     "output_type": "execute_result"
    }
   ],
   "source": [
    "date_range.head()"
   ]
  },
  {
   "cell_type": "code",
   "execution_count": 12,
   "id": "f9c14f67-1abc-4269-b387-8e7b67f3dff7",
   "metadata": {},
   "outputs": [
    {
     "data": {
      "text/plain": [
       "Datetime    object\n",
       "dtype: object"
      ]
     },
     "execution_count": 12,
     "metadata": {},
     "output_type": "execute_result"
    }
   ],
   "source": [
    "date_range.dtypes"
   ]
  },
  {
   "cell_type": "code",
   "execution_count": 13,
   "id": "a8b16b28-da96-4102-bff7-0676bdacda38",
   "metadata": {},
   "outputs": [],
   "source": [
    "date_range = ps.from_pandas(date_range).to_spark()"
   ]
  },
  {
   "cell_type": "code",
   "execution_count": 22,
   "id": "2e576e2e-a536-4808-85b3-2ef97cbb737b",
   "metadata": {},
   "outputs": [],
   "source": [
    "w_forward = Window.partitionBy().orderBy('Datetime').rowsBetween(Window.unboundedPreceding,Window.currentRow)"
   ]
  },
  {
   "cell_type": "code",
   "execution_count": 28,
   "id": "905b680f-15a8-4651-a365-555fa7f1aa8d",
   "metadata": {},
   "outputs": [],
   "source": [
    "def prepare_stock_data(data_name, source_data=\"EMPTY\"):\n",
    "    if source_data == \"EMPTY\":\n",
    "        source_data = data_name\n",
    "    results = spark.read.format(\"delta\").load(datasets_path+source_data).select(col(\"Datetime\"), col(\"Close\"), col(\"Volume\"))\n",
    "    results = date_range.join(results, on = \"Datetime\", how = \"left\")\n",
    "    results = results.withColumn('Close',F.last('Close', ignorenulls=True).over(w_forward))\n",
    "    results = results.withColumn('Volume',F.last('Volume', ignorenulls=True).over(w_forward))\n",
    "    results = results.fillna(0)\n",
    "    results.coalesce(1)\n",
    "    results.write.format(\"delta\").mode(\"overwrite\").save(train_data_path+data_name)"
   ]
  },
  {
   "cell_type": "code",
   "execution_count": 24,
   "id": "98fc7dd1-f352-48e9-8394-ae0028dfe8ec",
   "metadata": {},
   "outputs": [],
   "source": [
    "tickers = ['SP500','30Y_BOND','10Y_NOTE','GOLD']"
   ]
  },
  {
   "cell_type": "code",
   "execution_count": 26,
   "id": "5afb0b95-d134-428c-a33c-67dc0e23b5a6",
   "metadata": {
    "collapsed": true,
    "jupyter": {
     "outputs_hidden": true
    },
    "tags": []
   },
   "outputs": [
    {
     "name": "stderr",
     "output_type": "stream",
     "text": [
      "22/11/01 10:22:17 WARN WindowExec: No Partition Defined for Window operation! Moving all data to a single partition, this can cause serious performance degradation.\n",
      "22/11/01 10:22:17 WARN WindowExec: No Partition Defined for Window operation! Moving all data to a single partition, this can cause serious performance degradation.\n",
      "22/11/01 10:22:18 WARN TaskSetManager: Stage 353 contains a task of very large size (14108 KiB). The maximum recommended task size is 1000 KiB.\n",
      "22/11/01 10:22:32 WARN WindowExec: No Partition Defined for Window operation! Moving all data to a single partition, this can cause serious performance degradation.\n",
      "22/11/01 10:22:35 WARN WindowExec: No Partition Defined for Window operation! Moving all data to a single partition, this can cause serious performance degradation.\n",
      "22/11/01 10:22:38 WARN WindowExec: No Partition Defined for Window operation! Moving all data to a single partition, this can cause serious performance degradation.\n",
      "22/11/01 10:22:40 WARN TaskMemoryManager: Failed to allocate a page (134217728 bytes), try again.\n",
      "22/11/01 10:22:40 WARN TaskMemoryManager: Failed to allocate a page (134217728 bytes), try again.\n",
      "22/11/01 10:22:54 WARN WindowExec: No Partition Defined for Window operation! Moving all data to a single partition, this can cause serious performance degradation.\n",
      "22/11/01 10:22:54 WARN WindowExec: No Partition Defined for Window operation! Moving all data to a single partition, this can cause serious performance degradation.\n",
      "22/11/01 10:22:54 WARN WindowExec: No Partition Defined for Window operation! Moving all data to a single partition, this can cause serious performance degradation.\n",
      "22/11/01 10:22:54 WARN TaskSetManager: Stage 377 contains a task of very large size (14108 KiB). The maximum recommended task size is 1000 KiB.\n",
      "22/11/01 10:22:57 WARN WindowExec: No Partition Defined for Window operation! Moving all data to a single partition, this can cause serious performance degradation.\n",
      "22/11/01 10:23:20 WARN WindowExec: No Partition Defined for Window operation! Moving all data to a single partition, this can cause serious performance degradation.\n",
      "22/11/01 10:23:20 WARN WindowExec: No Partition Defined for Window operation! Moving all data to a single partition, this can cause serious performance degradation.\n",
      "22/11/01 10:23:20 WARN WindowExec: No Partition Defined for Window operation! Moving all data to a single partition, this can cause serious performance degradation.\n",
      "22/11/01 10:23:20 WARN TaskSetManager: Stage 395 contains a task of very large size (14108 KiB). The maximum recommended task size is 1000 KiB.\n",
      "22/11/01 10:23:29 WARN WindowExec: No Partition Defined for Window operation! Moving all data to a single partition, this can cause serious performance degradation.\n",
      "22/11/01 10:23:43 WARN WindowExec: No Partition Defined for Window operation! Moving all data to a single partition, this can cause serious performance degradation.\n",
      "22/11/01 10:23:43 WARN WindowExec: No Partition Defined for Window operation! Moving all data to a single partition, this can cause serious performance degradation.\n",
      "22/11/01 10:23:43 WARN TaskSetManager: Stage 412 contains a task of very large size (14108 KiB). The maximum recommended task size is 1000 KiB.\n",
      "22/11/01 10:23:47 WARN WindowExec: No Partition Defined for Window operation! Moving all data to a single partition, this can cause serious performance degradation.\n",
      "22/11/01 10:23:48 WARN WindowExec: No Partition Defined for Window operation! Moving all data to a single partition, this can cause serious performance degradation.\n",
      "22/11/01 10:23:52 WARN WindowExec: No Partition Defined for Window operation! Moving all data to a single partition, this can cause serious performance degradation.\n",
      "                                                                                \r"
     ]
    }
   ],
   "source": [
    "for ticker in tickers:\n",
    "    prepare_stock_data(ticker)"
   ]
  },
  {
   "cell_type": "code",
   "execution_count": 29,
   "id": "b09bfe52-2957-440d-b6ff-a2d07c5d5379",
   "metadata": {},
   "outputs": [
    {
     "name": "stderr",
     "output_type": "stream",
     "text": [
      "22/11/01 10:29:32 WARN WindowExec: No Partition Defined for Window operation! Moving all data to a single partition, this can cause serious performance degradation.\n",
      "22/11/01 10:29:32 WARN WindowExec: No Partition Defined for Window operation! Moving all data to a single partition, this can cause serious performance degradation.\n",
      "22/11/01 10:29:32 WARN TaskSetManager: Stage 435 contains a task of very large size (14108 KiB). The maximum recommended task size is 1000 KiB.\n",
      "22/11/01 10:29:35 WARN WindowExec: No Partition Defined for Window operation! Moving all data to a single partition, this can cause serious performance degradation.\n",
      "22/11/01 10:29:36 WARN WindowExec: No Partition Defined for Window operation! Moving all data to a single partition, this can cause serious performance degradation.\n",
      "22/11/01 10:29:38 WARN WindowExec: No Partition Defined for Window operation! Moving all data to a single partition, this can cause serious performance degradation.\n",
      "22/11/01 10:29:39 WARN TaskMemoryManager: Failed to allocate a page (134217728 bytes), try again.\n",
      "22/11/01 10:29:39 WARN TaskMemoryManager: Failed to allocate a page (134217728 bytes), try again.\n",
      "                                                                                \r"
     ]
    }
   ],
   "source": [
    "prepare_stock_data(\"MSFT\",\"stocks_per_minute\")"
   ]
  },
  {
   "cell_type": "code",
   "execution_count": null,
   "id": "24c539f5-f2cf-44da-b6d6-918d7b7c3103",
   "metadata": {},
   "outputs": [],
   "source": []
  },
  {
   "cell_type": "code",
   "execution_count": null,
   "id": "d39a9beb-a172-4d30-8e42-22167d5ac777",
   "metadata": {},
   "outputs": [],
   "source": []
  },
  {
   "cell_type": "code",
   "execution_count": 14,
   "id": "cbc2e7a5-ada4-46bf-a55b-f8e89f2b9be9",
   "metadata": {},
   "outputs": [
    {
     "name": "stderr",
     "output_type": "stream",
     "text": [
      "                                                                                \r"
     ]
    }
   ],
   "source": [
    "econ_data =  spark.read.format(\"delta\").load(datasets_path+\"economic_data\")"
   ]
  },
  {
   "cell_type": "code",
   "execution_count": null,
   "id": "634aa30d-f997-4076-a33f-ca17cb78c422",
   "metadata": {},
   "outputs": [],
   "source": [
    "query = \"DELETE \\\n",
    "FROM delta.`{}`\\\n",
    "WHERE Event LIKE '%Speaks%'\"\\\n",
    ".format(datasets_path+\"economic_data\")"
   ]
  },
  {
   "cell_type": "code",
   "execution_count": null,
   "id": "55f78331-cbfd-4d13-bfec-69e7e5061bae",
   "metadata": {},
   "outputs": [],
   "source": [
    "spark.sql(query).show()"
   ]
  },
  {
   "cell_type": "code",
   "execution_count": 15,
   "id": "f5aa4ea8-5040-4a5f-8413-b271b21d292c",
   "metadata": {},
   "outputs": [],
   "source": [
    "query = \"SELECT DISTINCT Event \\\n",
    "FROM delta.`{}`\"\\\n",
    ".format(datasets_path+\"economic_data\")"
   ]
  },
  {
   "cell_type": "code",
   "execution_count": 16,
   "id": "703da1db-6a83-4379-aa45-e27b187066ae",
   "metadata": {},
   "outputs": [],
   "source": [
    "distinct_events = spark.sql(query)"
   ]
  },
  {
   "cell_type": "code",
   "execution_count": 20,
   "id": "2cb77121-030d-43ba-94bd-164d3bdbd5fd",
   "metadata": {},
   "outputs": [
    {
     "data": {
      "text/plain": [
       "'Distillate Fuel Production'"
      ]
     },
     "execution_count": 20,
     "metadata": {},
     "output_type": "execute_result"
    }
   ],
   "source": [
    "prepare_econ_train_data(distinct_events.collect())"
   ]
  },
  {
   "cell_type": "code",
   "execution_count": 30,
   "id": "bc6845b8-fda9-4ecd-bd7a-181ba90a8a64",
   "metadata": {
    "tags": []
   },
   "outputs": [],
   "source": [
    "def prepare_econ_train_data(events):\n",
    "    for count, i in enumerate(events):\n",
    "        event = i[0]\n",
    "        sys.stdout.write('\\r'+str(count)+' '+event)\n",
    "        event_data = econ_data.filter(col(\"Event\") == event).select(col(\"Datetime\"),col(\"Actual\"))\n",
    "        event_data = date_range.join(event_data, on = \"Datetime\", how = \"left\")\n",
    "        event_data = event_data.withColumn('Actual',F.last('Actual', ignorenulls=True).over(w_forward))\n",
    "        event_data = event_data.fillna(0)\n",
    "        event_data.coalesce(1)\n",
    "        event = event.replace(\"(\",\"\").replace(\")\",\"\").replace(\"&\",\"\").replace(\"/\",\"\").strip()\n",
    "        event_data.write.format(\"delta\").mode(\"overwrite\").save(train_data_path+event)"
   ]
  }
 ],
 "metadata": {
  "kernelspec": {
   "display_name": "Python 3 (ipykernel)",
   "language": "python",
   "name": "python3"
  },
  "language_info": {
   "codemirror_mode": {
    "name": "ipython",
    "version": 3
   },
   "file_extension": ".py",
   "mimetype": "text/x-python",
   "name": "python",
   "nbconvert_exporter": "python",
   "pygments_lexer": "ipython3",
   "version": "3.9.13"
  }
 },
 "nbformat": 4,
 "nbformat_minor": 5
}
