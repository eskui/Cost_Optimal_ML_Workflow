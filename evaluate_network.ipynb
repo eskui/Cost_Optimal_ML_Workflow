{
 "cells": [
  {
   "cell_type": "code",
   "execution_count": 55,
   "id": "f134ff5b-7c20-42c3-b118-a34b36d6dfe0",
   "metadata": {},
   "outputs": [],
   "source": [
    "import paleo.profiler as profilers\n",
    "import paleo.device as device"
   ]
  },
  {
   "cell_type": "code",
   "execution_count": 57,
   "id": "b8022512-f957-4a0c-afbc-4cdad9c84bc0",
   "metadata": {},
   "outputs": [],
   "source": [
    "from importlib import reload\n",
    "profilers = reload(profilers)\n",
    "device = reload(device)\n"
   ]
  },
  {
   "cell_type": "code",
   "execution_count": 151,
   "id": "7fb548d9-78f6-488b-9f31-a2b0e702ddae",
   "metadata": {},
   "outputs": [],
   "source": [
    "USE_ONLY_GEM = True\n",
    "USE_PIPELINE = False\n",
    "PPP_COMP = 0.66\n",
    "PPP_COMM = 0.72"
   ]
  },
  {
   "cell_type": "code",
   "execution_count": 152,
   "id": "3bc3bdca-f3ea-468d-a803-e71cdc25725e",
   "metadata": {},
   "outputs": [],
   "source": [
    "NETWORK = device.Network(\"EC2_network\", 20)\n",
    "DEVICE = device.Device(\"NVIDIA_T4\",585,8100,320,True)"
   ]
  },
  {
   "cell_type": "code",
   "execution_count": 146,
   "id": "690a374a-2c42-44ab-ae9a-67e357df8c93",
   "metadata": {},
   "outputs": [],
   "source": [
    "DEVICE = device.Device(\"Mac_CPU\",2300,40,2133,False)"
   ]
  },
  {
   "cell_type": "code",
   "execution_count": 153,
   "id": "96957e9f-5128-44be-8787-a9dbc7438f91",
   "metadata": {},
   "outputs": [],
   "source": [
    "profiler = profilers.BaseProfiler(\"conv_network.json\", DEVICE, NETWORK)"
   ]
  },
  {
   "cell_type": "code",
   "execution_count": 154,
   "id": "fd1728e2-e9f6-4b5c-b95b-6b4ade5b4aa3",
   "metadata": {},
   "outputs": [
    {
     "ename": "OSError",
     "evalue": "cuDNN library not found",
     "output_type": "error",
     "traceback": [
      "\u001b[0;31m---------------------------------------------------------------------------\u001b[0m",
      "\u001b[0;31mOSError\u001b[0m                                   Traceback (most recent call last)",
      "Input \u001b[0;32mIn [154]\u001b[0m, in \u001b[0;36m<cell line: 3>\u001b[0;34m()\u001b[0m\n\u001b[1;32m      1\u001b[0m forward_time, kbytes \u001b[38;5;241m=\u001b[39m profiler\u001b[38;5;241m.\u001b[39mestimate_forward(\u001b[38;5;241m32\u001b[39m)\n\u001b[1;32m      2\u001b[0m backward_time \u001b[38;5;241m=\u001b[39m profiler\u001b[38;5;241m.\u001b[39mestimate_backward(\u001b[38;5;241m32\u001b[39m)\n\u001b[0;32m----> 3\u001b[0m update_time \u001b[38;5;241m=\u001b[39m \u001b[43mprofiler\u001b[49m\u001b[38;5;241;43m.\u001b[39;49m\u001b[43mestimate_update\u001b[49m\u001b[43m(\u001b[49m\u001b[43mkbytes\u001b[49m\u001b[43m)\u001b[49m\n",
      "File \u001b[0;32m~/Projects/stock_traiding/nn_trader/paleo/profiler.py:236\u001b[0m, in \u001b[0;36mBaseProfiler.estimate_update\u001b[0;34m(self, params_in_bytes)\u001b[0m\n\u001b[1;32m    235\u001b[0m \u001b[38;5;28;01mdef\u001b[39;00m \u001b[38;5;21mestimate_update\u001b[39m(\u001b[38;5;28mself\u001b[39m, params_in_bytes):\n\u001b[0;32m--> 236\u001b[0m     time_apply_updates \u001b[38;5;241m=\u001b[39m \u001b[43msimulation\u001b[49m\u001b[38;5;241;43m.\u001b[39;49m\u001b[43m_profile_for_apply_updates\u001b[49m\u001b[43m(\u001b[49m\n\u001b[1;32m    237\u001b[0m \u001b[43m        \u001b[49m\u001b[43mparams_in_bytes\u001b[49m\u001b[43m,\u001b[49m\u001b[43m \u001b[49m\u001b[38;5;28;43mself\u001b[39;49m\u001b[38;5;241;43m.\u001b[39;49m\u001b[43mdevice_spec\u001b[49m\u001b[43m)\u001b[49m\n\u001b[1;32m    238\u001b[0m     \u001b[38;5;28;01mif\u001b[39;00m \u001b[38;5;28mself\u001b[39m\u001b[38;5;241m.\u001b[39m_options[\u001b[38;5;124m'\u001b[39m\u001b[38;5;124muse_pipeline\u001b[39m\u001b[38;5;124m'\u001b[39m]:\n\u001b[1;32m    239\u001b[0m         \u001b[38;5;28;01mreturn\u001b[39;00m time_apply_updates\u001b[38;5;241m.\u001b[39mlowerbound\n",
      "File \u001b[0;32m~/Projects/stock_traiding/nn_trader/paleo/simulation.py:58\u001b[0m, in \u001b[0;36m_profile_for_apply_updates\u001b[0;34m(params_in_bytes, device)\u001b[0m\n\u001b[1;32m     57\u001b[0m \u001b[38;5;28;01mdef\u001b[39;00m \u001b[38;5;21m_profile_for_apply_updates\u001b[39m(params_in_bytes, device):\n\u001b[0;32m---> 58\u001b[0m     flops_profiler \u001b[38;5;241m=\u001b[39m \u001b[43mprofilers\u001b[49m\u001b[38;5;241;43m.\u001b[39;49m\u001b[43mFlopsProfiler\u001b[49m\u001b[43m(\u001b[49m\u001b[43mprofilers\u001b[49m\u001b[38;5;241;43m.\u001b[39;49m\u001b[43mProfilerOptions\u001b[49m\u001b[43m(\u001b[49m\u001b[43m)\u001b[49m\u001b[43m,\u001b[49m\n\u001b[1;32m     59\u001b[0m \u001b[43m                                             \u001b[49m\u001b[43mdevice\u001b[49m\u001b[43m)\u001b[49m\n\u001b[1;32m     60\u001b[0m     \u001b[38;5;28;01mreturn\u001b[39;00m flops_profiler\u001b[38;5;241m.\u001b[39mprofile_apply_updates(params_in_bytes)\n",
      "File \u001b[0;32m~/Projects/stock_traiding/nn_trader/paleo/profilers/flops_profiler.py:24\u001b[0m, in \u001b[0;36mFlopsProfiler.__init__\u001b[0;34m(self, options, device)\u001b[0m\n\u001b[1;32m     21\u001b[0m     \u001b[38;5;28mself\u001b[39m\u001b[38;5;241m.\u001b[39moptions\u001b[38;5;241m.\u001b[39muse_cudnn_heuristics \u001b[38;5;241m=\u001b[39m \u001b[38;5;28;01mFalse\u001b[39;00m\n\u001b[1;32m     23\u001b[0m \u001b[38;5;28;01mif\u001b[39;00m \u001b[38;5;28mself\u001b[39m\u001b[38;5;241m.\u001b[39moptions\u001b[38;5;241m.\u001b[39muse_cudnn_heuristics:\n\u001b[0;32m---> 24\u001b[0m     \u001b[38;5;28;01mfrom\u001b[39;00m \u001b[38;5;21;01mpaleo\u001b[39;00m\u001b[38;5;21;01m.\u001b[39;00m\u001b[38;5;21;01mprofilers\u001b[39;00m \u001b[38;5;28;01mimport\u001b[39;00m cudnn_profiler \u001b[38;5;28;01mas\u001b[39;00m cudnn\n\u001b[1;32m     25\u001b[0m     \u001b[38;5;28mself\u001b[39m\u001b[38;5;241m.\u001b[39mcudnn \u001b[38;5;241m=\u001b[39m cudnn\n",
      "File \u001b[0;32m~/Projects/stock_traiding/nn_trader/paleo/profilers/cudnn_profiler.py:10\u001b[0m, in \u001b[0;36m<module>\u001b[0;34m\u001b[0m\n\u001b[1;32m      8\u001b[0m \u001b[38;5;28;01mfrom\u001b[39;00m \u001b[38;5;21;01msix\u001b[39;00m\u001b[38;5;21;01m.\u001b[39;00m\u001b[38;5;21;01mmoves\u001b[39;00m \u001b[38;5;28;01mimport\u001b[39;00m \u001b[38;5;28mrange\u001b[39m\n\u001b[1;32m      9\u001b[0m \u001b[38;5;28;01mfrom\u001b[39;00m \u001b[38;5;21;01mpaleo\u001b[39;00m\u001b[38;5;21;01m.\u001b[39;00m\u001b[38;5;21;01mprofilers\u001b[39;00m\u001b[38;5;21;01m.\u001b[39;00m\u001b[38;5;21;01mbase\u001b[39;00m \u001b[38;5;28;01mimport\u001b[39;00m BaseProfiler, TimeMeasure\n\u001b[0;32m---> 10\u001b[0m \u001b[38;5;28;01mfrom\u001b[39;00m \u001b[38;5;21;01mpaleo\u001b[39;00m\u001b[38;5;21;01m.\u001b[39;00m\u001b[38;5;21;01mthird_party\u001b[39;00m \u001b[38;5;28;01mimport\u001b[39;00m libcudnn\n\u001b[1;32m     13\u001b[0m \u001b[38;5;28;01mclass\u001b[39;00m \u001b[38;5;21;01mCudnnProfiler\u001b[39;00m(BaseProfiler):\n\u001b[1;32m     14\u001b[0m     \u001b[38;5;28;01mdef\u001b[39;00m \u001b[38;5;21m__init__\u001b[39m(\u001b[38;5;28mself\u001b[39m, options):\n",
      "File \u001b[0;32m~/Projects/stock_traiding/nn_trader/paleo/third_party/libcudnn.py:52\u001b[0m, in \u001b[0;36m<module>\u001b[0;34m\u001b[0m\n\u001b[1;32m     50\u001b[0m         \u001b[38;5;28;01mbreak\u001b[39;00m\n\u001b[1;32m     51\u001b[0m \u001b[38;5;28;01mif\u001b[39;00m _libcudnn \u001b[38;5;129;01mis\u001b[39;00m \u001b[38;5;28;01mNone\u001b[39;00m:\n\u001b[0;32m---> 52\u001b[0m     \u001b[38;5;28;01mraise\u001b[39;00m \u001b[38;5;167;01mOSError\u001b[39;00m(\u001b[38;5;124m'\u001b[39m\u001b[38;5;124mcuDNN library not found\u001b[39m\u001b[38;5;124m'\u001b[39m)\n\u001b[1;32m     54\u001b[0m \u001b[38;5;66;03m# cuDNN error\u001b[39;00m\n\u001b[1;32m     55\u001b[0m _libcudnn\u001b[38;5;241m.\u001b[39mcudnnGetErrorString\u001b[38;5;241m.\u001b[39mrestype \u001b[38;5;241m=\u001b[39m ctypes\u001b[38;5;241m.\u001b[39mc_char_p\n",
      "\u001b[0;31mOSError\u001b[0m: cuDNN library not found"
     ]
    }
   ],
   "source": [
    "forward_time, kbytes = profiler.estimate_forward(32)\n",
    "backward_time = profiler.estimate_backward(32)\n",
    "update_time = profiler.estimate_update(kbytes)"
   ]
  },
  {
   "cell_type": "code",
   "execution_count": 155,
   "id": "2b7463aa-9d0c-4044-97b7-34130d4ff508",
   "metadata": {},
   "outputs": [],
   "source": [
    "total_time_seconds = (forward_time + backward_time + update_time)*0.001"
   ]
  },
  {
   "cell_type": "code",
   "execution_count": 150,
   "id": "bfd91d86-1a52-4ea8-8160-cd74ba4bddbf",
   "metadata": {},
   "outputs": [
    {
     "data": {
      "text/plain": [
       "0.34449086592803263"
      ]
     },
     "execution_count": 150,
     "metadata": {},
     "output_type": "execute_result"
    }
   ],
   "source": [
    "total_time_seconds"
   ]
  },
  {
   "cell_type": "code",
   "execution_count": null,
   "id": "22b01940-3450-4ce9-9887-6b218136a2ac",
   "metadata": {},
   "outputs": [],
   "source": []
  }
 ],
 "metadata": {
  "kernelspec": {
   "display_name": "Python 3 (ipykernel)",
   "language": "python",
   "name": "python3"
  },
  "language_info": {
   "codemirror_mode": {
    "name": "ipython",
    "version": 3
   },
   "file_extension": ".py",
   "mimetype": "text/x-python",
   "name": "python",
   "nbconvert_exporter": "python",
   "pygments_lexer": "ipython3",
   "version": "3.9.13"
  }
 },
 "nbformat": 4,
 "nbformat_minor": 5
}
