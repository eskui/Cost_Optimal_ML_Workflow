{
 "cells": [
  {
   "cell_type": "code",
   "execution_count": 1,
   "id": "71829ba8-a219-4ab6-866f-dca2d2d70232",
   "metadata": {},
   "outputs": [],
   "source": [
    "import boto3\n",
    "import os"
   ]
  },
  {
   "cell_type": "code",
   "execution_count": 2,
   "id": "a0daad1b-5c5e-4fc1-a8e3-895f0cba2d9a",
   "metadata": {},
   "outputs": [
    {
     "name": "stdout",
     "output_type": "stream",
     "text": [
      "databricks-workspace-stack-lambdazipsbucket-5ffko2rxj5ex\n",
      "db-419345080832e5579509456268693da0-s3-root-bucket\n",
      "ejkquant\n",
      "esaphotos\n"
     ]
    }
   ],
   "source": [
    "# Let's use Amazon S3\n",
    "s3 = boto3.resource('s3')\n",
    "\n",
    "for bucket in s3.buckets.all():\n",
    "    print(bucket.name)\n",
    "\n",
    "s3_client = boto3.client('s3')"
   ]
  },
  {
   "cell_type": "code",
   "execution_count": 19,
   "id": "37f614cf-0c68-4def-86fc-49ce6784c18c",
   "metadata": {},
   "outputs": [],
   "source": [
    "train_data_path = \"train_data/\"\n",
    "datasets = set()"
   ]
  },
  {
   "cell_type": "code",
   "execution_count": 41,
   "id": "ccb4eacc-5d38-469a-89ab-aa8516b852e5",
   "metadata": {},
   "outputs": [],
   "source": [
    "def uploadDirectory(path,bucketname, ds_to_upload = [\"KAIKKI\"]):\n",
    "    for root,dirs,files in os.walk(path):\n",
    "        for file in files:\n",
    "            if file.endswith(\".json\") or file.endswith(\".parquet\"):\n",
    "                bucket_file = root+\"/\"+file\n",
    "                dataset = root.split(\"/\")[1]\n",
    "                datasets.add(dataset)\n",
    "                if (dataset in ds_to_upload) or (ds_to_upload[0] == \"KAIKKI\"):\n",
    "                    print(dataset)\n",
    "                    s3_client.upload_file(os.path.join(root,file),bucketname,bucket_file)"
   ]
  },
  {
   "cell_type": "code",
   "execution_count": 42,
   "id": "264c16d1-f2dc-4b88-85ef-278d2fe82984",
   "metadata": {},
   "outputs": [],
   "source": [
    "upload = ['MSFT','SP500','30Y_BOND','10Y_NOTE','GOLD']"
   ]
  },
  {
   "cell_type": "code",
   "execution_count": 43,
   "id": "08f5e988-12de-4544-a7c9-66615e428e89",
   "metadata": {
    "tags": []
   },
   "outputs": [
    {
     "name": "stdout",
     "output_type": "stream",
     "text": [
      "30Y_BOND\n",
      "30Y_BOND\n",
      "MSFT\n",
      "MSFT\n",
      "10Y_NOTE\n",
      "10Y_NOTE\n",
      "GOLD\n",
      "GOLD\n",
      "SP500\n",
      "SP500\n"
     ]
    }
   ],
   "source": [
    "uploadDirectory(train_data_path,\"ejkquant\", upload)"
   ]
  },
  {
   "cell_type": "code",
   "execution_count": 44,
   "id": "35ebbe92-3093-4b71-8f2a-b6b2071b42da",
   "metadata": {},
   "outputs": [],
   "source": [
    "lista = upload\n",
    "with open('datasets.txt','a', encoding='UTF8') as f:\n",
    "    for i,l in enumerate(lista): \n",
    "        if (i+1) == len(lista):\n",
    "            f.write(l)\n",
    "        else:\n",
    "            f.write(l+\"\\n\")"
   ]
  },
  {
   "cell_type": "code",
   "execution_count": 47,
   "id": "3e04e111-4dda-48cd-8e03-e5f6fdc53459",
   "metadata": {},
   "outputs": [],
   "source": [
    "s3_client.upload_file('datasets.txt','ejkquant-uswest1','train_data/datasets.txt')"
   ]
  },
  {
   "cell_type": "code",
   "execution_count": null,
   "id": "ccbc8102-9f0c-498d-99c5-e1c73a28e7cb",
   "metadata": {},
   "outputs": [],
   "source": []
  }
 ],
 "metadata": {
  "kernelspec": {
   "display_name": "Python 3 (ipykernel)",
   "language": "python",
   "name": "python3"
  },
  "language_info": {
   "codemirror_mode": {
    "name": "ipython",
    "version": 3
   },
   "file_extension": ".py",
   "mimetype": "text/x-python",
   "name": "python",
   "nbconvert_exporter": "python",
   "pygments_lexer": "ipython3",
   "version": "3.9.13"
  }
 },
 "nbformat": 4,
 "nbformat_minor": 5
}
