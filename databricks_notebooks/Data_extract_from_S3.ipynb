{
 "cells": [
  {
   "cell_type": "markdown",
   "metadata": {},
   "source": [
    "## NOTE, THIS NOTEBOOK RUNS ONLY ON DATABRICKS\n",
    "If run without Databricks on Spark, Spark context etc. should be set"
   ]
  },
  {
   "cell_type": "markdown",
   "metadata": {
    "application/vnd.databricks.v1+cell": {
     "cellMetadata": {},
     "inputWidgets": {},
     "nuid": "350d1a10-9acc-4904-bab8-70fd0623d150",
     "showTitle": false,
     "title": ""
    }
   },
   "source": [
    "### 1. First we create connection to S3 bucket within the same region"
   ]
  },
  {
   "cell_type": "code",
   "execution_count": null,
   "metadata": {
    "application/vnd.databricks.v1+cell": {
     "cellMetadata": {},
     "inputWidgets": {},
     "nuid": "9db298a6-4358-4a66-b440-cc0f70417738",
     "showTitle": false,
     "title": ""
    }
   },
   "outputs": [
    {
     "data": {
      "text/html": [
       "<style scoped>\n",
       "  .ansiout {\n",
       "    display: block;\n",
       "    unicode-bidi: embed;\n",
       "    white-space: pre-wrap;\n",
       "    word-wrap: break-word;\n",
       "    word-break: break-all;\n",
       "    font-family: \"Source Code Pro\", \"Menlo\", monospace;;\n",
       "    font-size: 13px;\n",
       "    color: #555;\n",
       "    margin-left: 4px;\n",
       "    line-height: 19px;\n",
       "  }\n",
       "</style>\n",
       "<div class=\"ansiout\"></div>"
      ]
     },
     "metadata": {
      "application/vnd.databricks.v1+output": {
       "addedWidgets": {},
       "arguments": {},
       "data": "<div class=\"ansiout\"></div>",
       "datasetInfos": [],
       "metadata": {},
       "removedWidgets": [],
       "type": "html"
      }
     },
     "output_type": "display_data"
    }
   ],
   "source": [
    "from pyspark.sql.functions import *\n",
    "from pyspark.sql.window import Window\n",
    "\n",
    "spark.conf.set(\"spark.databricks.io.cache.enabled\", \"true\")\n",
    "\n",
    "access_key = dbutils.secrets.get(scope = \"s3-access\", key = \"aws-access-key\")\n",
    "secret_key = dbutils.secrets.get(scope = \"s3-access\", key = \"aws-secret-key\")\n",
    "sc._jsc.hadoopConfiguration().set(\"fs.s3a.access.key\", access_key)\n",
    "sc._jsc.hadoopConfiguration().set(\"fs.s3a.secret.key\", secret_key)\n",
    "\n",
    "aws_region = \"us-west-1\"\n",
    "sc._jsc.hadoopConfiguration().set(\"fs.s3a.endpoint\", \"s3.\" + aws_region + \".amazonaws.com\")\n",
    "\n",
    "s3_bucket = \"s3a://ejkquant-uswest1/\""
   ]
  },
  {
   "cell_type": "markdown",
   "metadata": {
    "application/vnd.databricks.v1+cell": {
     "cellMetadata": {},
     "inputWidgets": {},
     "nuid": "c14c26bd-3bb7-490f-8f83-1b1979d6f376",
     "showTitle": false,
     "title": ""
    }
   },
   "source": [
    "### 2. Then we bucket the data by Datetime into 10 different partitions for efficient joins in later stages\n",
    "Bucketed data is stored in Tables in Databricks File System utilizing SSD, see https://docs.databricks.com/dbfs/index.html"
   ]
  },
  {
   "cell_type": "code",
   "execution_count": null,
   "metadata": {
    "application/vnd.databricks.v1+cell": {
     "cellMetadata": {},
     "inputWidgets": {},
     "nuid": "c65fcb77-fb87-446e-a7ce-e5db76920fc7",
     "showTitle": false,
     "title": ""
    }
   },
   "outputs": [
    {
     "data": {
      "text/html": [
       "<style scoped>\n",
       "  .ansiout {\n",
       "    display: block;\n",
       "    unicode-bidi: embed;\n",
       "    white-space: pre-wrap;\n",
       "    word-wrap: break-word;\n",
       "    word-break: break-all;\n",
       "    font-family: \"Source Code Pro\", \"Menlo\", monospace;;\n",
       "    font-size: 13px;\n",
       "    color: #555;\n",
       "    margin-left: 4px;\n",
       "    line-height: 19px;\n",
       "  }\n",
       "</style>\n",
       "<div class=\"ansiout\"></div>"
      ]
     },
     "metadata": {
      "application/vnd.databricks.v1+output": {
       "addedWidgets": {},
       "arguments": {},
       "data": "<div class=\"ansiout\"></div>",
       "datasetInfos": [],
       "metadata": {},
       "removedWidgets": [],
       "type": "html"
      }
     },
     "output_type": "display_data"
    }
   ],
   "source": [
    "fn = s3_bucket+\"features_data/MSFT.parquet\"\n",
    "MSFT = spark.read.format(\"parquet\").load(fn)\n",
    "\n",
    "fn = s3_bucket+\"features_data/SP500.parquet\"\n",
    "SP500 = spark.read.format(\"parquet\").load(fn)\n",
    "\n",
    "fn = s3_bucket+\"features_data/30Y_BOND.parquet\"\n",
    "BOND = spark.read.format(\"parquet\").load(fn)\n",
    "\n",
    "fn = s3_bucket+\"features_data/10Y_NOTE.parquet\"\n",
    "NOTE = spark.read.format(\"parquet\").load(fn)\n",
    "\n",
    "fn = s3_bucket+\"features_data/GOLD.parquet\"\n",
    "GOLD = spark.read.format(\"parquet\").load(fn)\n",
    "\n",
    "fn = s3_bucket+\"features_data/econ_features.parquet\"\n",
    "econ_features = spark.read.format(\"parquet\").load(fn)\n",
    "\n",
    "MSFT.write.bucketBy(10,\"Datetime\").saveAsTable(\"MSFT\", format=\"parquet\", mode=\"overwrite\")\n",
    "SP500.write.bucketBy(10,\"Datetime\").saveAsTable(\"SP500\", format=\"parquet\", mode=\"overwrite\")\n",
    "BOND.write.bucketBy(10,\"Datetime\").saveAsTable(\"BOND\", format=\"parquet\", mode=\"overwrite\")\n",
    "NOTE.write.bucketBy(10,\"Datetime\").saveAsTable(\"NOTE\", format=\"parquet\", mode=\"overwrite\")\n",
    "GOLD.write.bucketBy(10,\"Datetime\").saveAsTable(\"GOLD\", format=\"parquet\", mode=\"overwrite\")\n",
    "econ_features.write.bucketBy(10,\"Datetime\").saveAsTable(\"econ\", format=\"parquet\", mode=\"overwrite\")"
   ]
  }
 ],
 "metadata": {
  "application/vnd.databricks.v1+notebook": {
   "dashboards": [
    {
     "elements": [],
     "globalVars": {},
     "guid": "798f00e3-05d1-4929-96d7-3de3036de3c8",
     "layoutOption": {
      "grid": true,
      "stack": true
     },
     "nuid": "15d5eb12-6b06-486e-affe-9c831b828c08",
     "origId": 2267055460788642,
     "title": "Untitled",
     "version": "DashboardViewV1",
     "width": 1024
    }
   ],
   "language": "python",
   "notebookMetadata": {
    "mostRecentlyExecutedCommandWithImplicitDF": {
     "commandId": 2161294346503078,
     "dataframes": [
      "_sqldf"
     ]
    },
    "pythonIndentUnit": 4
   },
   "notebookName": "Data_extract_from_S3",
   "notebookOrigID": 946083617259787,
   "widgets": {}
  },
  "kernelspec": {
   "display_name": "Python 3 (ipykernel)",
   "language": "python",
   "name": "python3"
  },
  "language_info": {
   "codemirror_mode": {
    "name": "ipython",
    "version": 3
   },
   "file_extension": ".py",
   "mimetype": "text/x-python",
   "name": "python",
   "nbconvert_exporter": "python",
   "pygments_lexer": "ipython3",
   "version": "3.9.13"
  }
 },
 "nbformat": 4,
 "nbformat_minor": 4
}
