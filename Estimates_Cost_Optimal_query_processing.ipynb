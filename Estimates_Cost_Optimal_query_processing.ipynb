{
 "cells": [
  {
   "cell_type": "code",
   "execution_count": 1,
   "id": "20027645-0d09-4f9e-abc6-626b739f40fe",
   "metadata": {},
   "outputs": [],
   "source": [
    "import numpy as np\n",
    "import pandas as pd\n",
    "import matplotlib.pyplot as plt\n",
    "import matplotlib.pylab as pl"
   ]
  },
  {
   "cell_type": "code",
   "execution_count": 3,
   "id": "7e513f27-c862-4492-8817-b1bbb0e0afb7",
   "metadata": {},
   "outputs": [],
   "source": [
    "M5D_CPU_Cores = 4\n",
    "C5D_CPU_Cores = 8\n",
    "R5D_CPU_Cores = 4"
   ]
  },
  {
   "cell_type": "code",
   "execution_count": 33,
   "id": "b7d79665-79c1-4728-8b04-69f4766667e4",
   "metadata": {},
   "outputs": [],
   "source": [
    "cost_optimal_estimates = \\\n",
    "pd.DataFrame(data= 0, index=[\"c5d.2xlarge\",\"m5d.xlarge\",\"r5d.xlarge\"], \n",
    "             columns=[\"Data_extract_est\",\"Data_joins_est\"])"
   ]
  },
  {
   "cell_type": "code",
   "execution_count": 25,
   "id": "ac634687-c02b-454c-8ff0-c5a71d28cbf2",
   "metadata": {},
   "outputs": [],
   "source": [
    "data_prep_results = pd.read_excel('experiment_results/Experiment_results.xlsx', sheet_name = \"Data_Preparation\", index_col=\"No\")"
   ]
  },
  {
   "cell_type": "code",
   "execution_count": 26,
   "id": "15a09ad2-2dc0-4d07-9d46-998f9a6c18a6",
   "metadata": {},
   "outputs": [
    {
     "data": {
      "text/html": [
       "<div>\n",
       "<style scoped>\n",
       "    .dataframe tbody tr th:only-of-type {\n",
       "        vertical-align: middle;\n",
       "    }\n",
       "\n",
       "    .dataframe tbody tr th {\n",
       "        vertical-align: top;\n",
       "    }\n",
       "\n",
       "    .dataframe thead th {\n",
       "        text-align: right;\n",
       "    }\n",
       "</style>\n",
       "<table border=\"1\" class=\"dataframe\">\n",
       "  <thead>\n",
       "    <tr style=\"text-align: right;\">\n",
       "      <th></th>\n",
       "      <th>Data_extract_est</th>\n",
       "      <th>Data_joins_est</th>\n",
       "    </tr>\n",
       "  </thead>\n",
       "  <tbody>\n",
       "    <tr>\n",
       "      <th>c5d.2xlarge</th>\n",
       "      <td>0</td>\n",
       "      <td>0</td>\n",
       "    </tr>\n",
       "    <tr>\n",
       "      <th>m5d.xlarge</th>\n",
       "      <td>0</td>\n",
       "      <td>0</td>\n",
       "    </tr>\n",
       "    <tr>\n",
       "      <th>r5d.xlarge</th>\n",
       "      <td>0</td>\n",
       "      <td>0</td>\n",
       "    </tr>\n",
       "  </tbody>\n",
       "</table>\n",
       "</div>"
      ],
      "text/plain": [
       "             Data_extract_est  Data_joins_est\n",
       "c5d.2xlarge                 0               0\n",
       "m5d.xlarge                  0               0\n",
       "r5d.xlarge                  0               0"
      ]
     },
     "execution_count": 26,
     "metadata": {},
     "output_type": "execute_result"
    }
   ],
   "source": [
    "cost_optimal_estimates"
   ]
  },
  {
   "cell_type": "code",
   "execution_count": 27,
   "id": "d279b774-fbdc-4906-98c1-a0c0d93c908f",
   "metadata": {},
   "outputs": [],
   "source": [
    "#Calculating data preparation averages\n",
    "data_prep_results_averages = data_prep_results.groupby(['Experiment','Compute']).mean(numeric_only = True)\n",
    "#data_prep_results_averages[\"Total_Cost\"] = data_prep_results_averages[\"Time (s)\"]*data_prep_results_averages[\"Cost\"]/3600"
   ]
  },
  {
   "cell_type": "code",
   "execution_count": 28,
   "id": "c8307a1a-da79-4f74-9b4e-abf534201450",
   "metadata": {},
   "outputs": [],
   "source": [
    "#Calculating hypothetical baseline time, how much it would take if data preparation would have been run with single core compute\n",
    "data_extract_baseline_time_per_core = data_prep_results_averages.loc[(\"Data Extract From S3 and partition\",\"c5d.2xlarge\"),\"Time (s)\"] * C5D_CPU_Cores\n",
    "data_joins_baseline_time_per_core = data_prep_results_averages.loc[(\"Data Joins and Load to S3\",\"c5d.2xlarge\"),\"Time (s)\"] * C5D_CPU_Cores"
   ]
  },
  {
   "cell_type": "code",
   "execution_count": 29,
   "id": "72cf71ce-e27b-4a37-b067-140a707a5cb3",
   "metadata": {},
   "outputs": [
    {
     "data": {
      "text/plain": [
       "664.0"
      ]
     },
     "execution_count": 29,
     "metadata": {},
     "output_type": "execute_result"
    }
   ],
   "source": [
    "data_extract_baseline_time_per_core"
   ]
  },
  {
   "cell_type": "code",
   "execution_count": 30,
   "id": "47d9e7ac-ecfe-4312-b342-e4e0f88bbf55",
   "metadata": {},
   "outputs": [
    {
     "data": {
      "text/plain": [
       "1686.3999999999999"
      ]
     },
     "execution_count": 30,
     "metadata": {},
     "output_type": "execute_result"
    }
   ],
   "source": [
    "data_joins_baseline_time_per_core"
   ]
  },
  {
   "cell_type": "code",
   "execution_count": 36,
   "id": "a932855f-b533-4dd6-aee7-2ea24e8084b3",
   "metadata": {},
   "outputs": [],
   "source": [
    "cost_optimal_estimates.loc[\"c5d.2xlarge\",\"Data_extract_est\"] = \\\n",
    "data_extract_baseline_time_per_core/C5D_CPU_Cores\n",
    "cost_optimal_estimates.loc[\"m5d.xlarge\",\"Data_extract_est\"] = \\\n",
    "data_extract_baseline_time_per_core/M5D_CPU_Cores\n",
    "cost_optimal_estimates.loc[\"r5d.xlarge\",\"Data_extract_est\"] = \\\n",
    "data_extract_baseline_time_per_core/R5D_CPU_Cores"
   ]
  },
  {
   "cell_type": "code",
   "execution_count": 37,
   "id": "5433c3f2-c812-4518-b346-eb4527b1f641",
   "metadata": {},
   "outputs": [],
   "source": [
    "cost_optimal_estimates.loc[\"c5d.2xlarge\",\"Data_joins_est\"] = \\\n",
    "data_joins_baseline_time_per_core/C5D_CPU_Cores\n",
    "cost_optimal_estimates.loc[\"m5d.xlarge\",\"Data_joins_est\"] = \\\n",
    "data_joins_baseline_time_per_core/M5D_CPU_Cores\n",
    "cost_optimal_estimates.loc[\"r5d.xlarge\",\"Data_joins_est\"] = \\\n",
    "data_joins_baseline_time_per_core/R5D_CPU_Cores"
   ]
  },
  {
   "cell_type": "code",
   "execution_count": 38,
   "id": "4beccc32-2b29-4844-8c78-0a74066bb605",
   "metadata": {},
   "outputs": [
    {
     "data": {
      "text/html": [
       "<div>\n",
       "<style scoped>\n",
       "    .dataframe tbody tr th:only-of-type {\n",
       "        vertical-align: middle;\n",
       "    }\n",
       "\n",
       "    .dataframe tbody tr th {\n",
       "        vertical-align: top;\n",
       "    }\n",
       "\n",
       "    .dataframe thead th {\n",
       "        text-align: right;\n",
       "    }\n",
       "</style>\n",
       "<table border=\"1\" class=\"dataframe\">\n",
       "  <thead>\n",
       "    <tr style=\"text-align: right;\">\n",
       "      <th></th>\n",
       "      <th>Data_extract_est</th>\n",
       "      <th>Data_joins_est</th>\n",
       "    </tr>\n",
       "  </thead>\n",
       "  <tbody>\n",
       "    <tr>\n",
       "      <th>c5d.2xlarge</th>\n",
       "      <td>83</td>\n",
       "      <td>210.8</td>\n",
       "    </tr>\n",
       "    <tr>\n",
       "      <th>m5d.xlarge</th>\n",
       "      <td>166</td>\n",
       "      <td>421.6</td>\n",
       "    </tr>\n",
       "    <tr>\n",
       "      <th>r5d.xlarge</th>\n",
       "      <td>166</td>\n",
       "      <td>421.6</td>\n",
       "    </tr>\n",
       "  </tbody>\n",
       "</table>\n",
       "</div>"
      ],
      "text/plain": [
       "             Data_extract_est  Data_joins_est\n",
       "c5d.2xlarge                83           210.8\n",
       "m5d.xlarge                166           421.6\n",
       "r5d.xlarge                166           421.6"
      ]
     },
     "execution_count": 38,
     "metadata": {},
     "output_type": "execute_result"
    }
   ],
   "source": [
    "cost_optimal_estimates"
   ]
  },
  {
   "cell_type": "code",
   "execution_count": 39,
   "id": "1bfa1ba0-b1ec-4015-863b-33dc19cb9e59",
   "metadata": {},
   "outputs": [],
   "source": [
    "cost_optimal_estimates.to_excel(\"experiment_results/cost_optimal_estimates.xlsx\")"
   ]
  },
  {
   "cell_type": "code",
   "execution_count": null,
   "id": "8b65e526-65dd-421d-82c1-4fd57313b249",
   "metadata": {},
   "outputs": [],
   "source": []
  }
 ],
 "metadata": {
  "kernelspec": {
   "display_name": "Python 3 (ipykernel)",
   "language": "python",
   "name": "python3"
  },
  "language_info": {
   "codemirror_mode": {
    "name": "ipython",
    "version": 3
   },
   "file_extension": ".py",
   "mimetype": "text/x-python",
   "name": "python",
   "nbconvert_exporter": "python",
   "pygments_lexer": "ipython3",
   "version": "3.9.13"
  }
 },
 "nbformat": 4,
 "nbformat_minor": 5
}
