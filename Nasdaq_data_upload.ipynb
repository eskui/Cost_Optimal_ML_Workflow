{
 "cells": [
  {
   "cell_type": "code",
   "execution_count": 1,
   "id": "113ab222-4480-4750-aa20-b47e0cf33339",
   "metadata": {},
   "outputs": [],
   "source": [
    "import numpy as np\n",
    "import pandas as pd\n",
    "import os\n",
    "import tensorflow as tf\n",
    "from datetime import datetime\n",
    "from datetime import timedelta\n",
    "import re\n",
    "from sklearn.preprocessing import MinMaxScaler\n",
    "from sklearn.impute import SimpleImputer\n",
    "import matplotlib.pyplot as plt\n",
    "import support.ts_class as ts_class\n",
    "import support.load_and_process_data as lpdata\n",
    "#import yfinance as yf\n",
    "import investpy\n",
    "import math\n",
    "#import plotly.graph_objects as go\n",
    "import gspread\n",
    "from time import sleep"
   ]
  },
  {
   "cell_type": "code",
   "execution_count": 2,
   "id": "b7f33301-5952-497d-ae2e-246c10c9ec29",
   "metadata": {},
   "outputs": [
    {
     "name": "stderr",
     "output_type": "stream",
     "text": [
      "WARNING: An illegal reflective access operation has occurred\n",
      "WARNING: Illegal reflective access by org.apache.spark.unsafe.Platform (file:/opt/anaconda3/envs/traiding_spark_delta/lib/python3.9/site-packages/pyspark/jars/spark-unsafe_2.12-3.2.0.jar) to constructor java.nio.DirectByteBuffer(long,int)\n",
      "WARNING: Please consider reporting this to the maintainers of org.apache.spark.unsafe.Platform\n",
      "WARNING: Use --illegal-access=warn to enable warnings of further illegal reflective access operations\n",
      "WARNING: All illegal access operations will be denied in a future release\n"
     ]
    },
    {
     "name": "stdout",
     "output_type": "stream",
     "text": [
      ":: loading settings :: url = jar:file:/opt/anaconda3/envs/traiding_spark_delta/lib/python3.9/site-packages/pyspark/jars/ivy-2.5.0.jar!/org/apache/ivy/core/settings/ivysettings.xml\n"
     ]
    },
    {
     "name": "stderr",
     "output_type": "stream",
     "text": [
      "Ivy Default Cache set to: /Users/esak/.ivy2/cache\n",
      "The jars for the packages stored in: /Users/esak/.ivy2/jars\n",
      "io.delta#delta-core_2.12 added as a dependency\n",
      ":: resolving dependencies :: org.apache.spark#spark-submit-parent-edd7ddf3-4022-469b-9c2d-b9ab3de79001;1.0\n",
      "\tconfs: [default]\n",
      "\tfound io.delta#delta-core_2.12;1.2.1 in central\n",
      "\tfound io.delta#delta-storage;1.2.1 in central\n",
      "\tfound org.antlr#antlr4-runtime;4.8 in central\n",
      "\tfound org.codehaus.jackson#jackson-core-asl;1.9.13 in central\n",
      ":: resolution report :: resolve 278ms :: artifacts dl 11ms\n",
      "\t:: modules in use:\n",
      "\tio.delta#delta-core_2.12;1.2.1 from central in [default]\n",
      "\tio.delta#delta-storage;1.2.1 from central in [default]\n",
      "\torg.antlr#antlr4-runtime;4.8 from central in [default]\n",
      "\torg.codehaus.jackson#jackson-core-asl;1.9.13 from central in [default]\n",
      "\t---------------------------------------------------------------------\n",
      "\t|                  |            modules            ||   artifacts   |\n",
      "\t|       conf       | number| search|dwnlded|evicted|| number|dwnlded|\n",
      "\t---------------------------------------------------------------------\n",
      "\t|      default     |   4   |   0   |   0   |   0   ||   4   |   0   |\n",
      "\t---------------------------------------------------------------------\n",
      ":: retrieving :: org.apache.spark#spark-submit-parent-edd7ddf3-4022-469b-9c2d-b9ab3de79001\n",
      "\tconfs: [default]\n",
      "\t0 artifacts copied, 4 already retrieved (0kB/6ms)\n",
      "22/10/27 16:01:33 WARN NativeCodeLoader: Unable to load native-hadoop library for your platform... using builtin-java classes where applicable\n",
      "Using Spark's default log4j profile: org/apache/spark/log4j-defaults.properties\n",
      "Setting default log level to \"WARN\".\n",
      "To adjust logging level use sc.setLogLevel(newLevel). For SparkR, use setLogLevel(newLevel).\n"
     ]
    }
   ],
   "source": [
    "import pyspark\n",
    "from delta import *\n",
    "\n",
    "builder = pyspark.sql.SparkSession.builder.appName(\"MyApp\") \\\n",
    "    .config(\"spark.sql.extensions\", \"io.delta.sql.DeltaSparkSessionExtension\") \\\n",
    "    .config(\"spark.sql.catalog.spark_catalog\", \"org.apache.spark.sql.delta.catalog.DeltaCatalog\")\n",
    "\n",
    "spark = configure_spark_with_delta_pip(builder).getOrCreate()"
   ]
  },
  {
   "cell_type": "code",
   "execution_count": 3,
   "id": "f0ba0658-b977-47e3-94f4-412adccdd32b",
   "metadata": {},
   "outputs": [
    {
     "name": "stderr",
     "output_type": "stream",
     "text": [
      "WARNING:root:'PYARROW_IGNORE_TIMEZONE' environment variable was not set. It is required to set this environment variable to '1' in both driver and executor sides if you use pyarrow>=2.0.0. pandas-on-Spark will set it for you but it does not work if there is a Spark context already launched.\n"
     ]
    }
   ],
   "source": [
    "from delta.tables import *\n",
    "from pyspark.sql.types import *\n",
    "from pyspark.sql.functions import *\n",
    "import pyspark.pandas as ps"
   ]
  },
  {
   "cell_type": "code",
   "execution_count": 4,
   "id": "27492b5f-dbc4-4281-b194-12ccf6f594ad",
   "metadata": {},
   "outputs": [],
   "source": [
    "import nasdaqdatalink"
   ]
  },
  {
   "cell_type": "code",
   "execution_count": 5,
   "id": "9c362876-9d99-40ab-91b9-0ca94dd43d08",
   "metadata": {},
   "outputs": [],
   "source": [
    "nasdaqdatalink.read_key(filename=\"~/.nasdaq/data_link_apikey\")"
   ]
  },
  {
   "cell_type": "code",
   "execution_count": 6,
   "id": "3aecc79e-233b-4452-a49e-8df1171768e5",
   "metadata": {},
   "outputs": [],
   "source": [
    "nasdaq_path = \"/Users/esak/Projects/stock_traiding/forecast_indices/datasets/nasdaq\""
   ]
  },
  {
   "cell_type": "code",
   "execution_count": 9,
   "id": "80d8c27d-0a35-47c7-a170-8115b52d62d5",
   "metadata": {},
   "outputs": [],
   "source": [
    "#metadata_files = ['source_data/UMICH_metadata.csv','source_data/USTREASURY_metadata.csv']\n",
    "metadata_files = ['source_data/USTREASURY_metadata.csv']"
   ]
  },
  {
   "cell_type": "code",
   "execution_count": 10,
   "id": "51399eab-802d-4e6c-a244-4e5000b2f56f",
   "metadata": {
    "tags": []
   },
   "outputs": [
    {
     "name": "stderr",
     "output_type": "stream",
     "text": [
      "/var/folders/t4/btbs8b8d5c3530kqrnyv6z1h0000gn/T/ipykernel_16567/30869090.py:19: FutureWarning: The default value of regex will change from True to False in a future version. In addition, single character regular expressions will *not* be treated as literal strings when regex=True.\n",
      "  data.columns = data.columns.str.replace(\"{\",\"[\")\n",
      "/var/folders/t4/btbs8b8d5c3530kqrnyv6z1h0000gn/T/ipykernel_16567/30869090.py:20: FutureWarning: The default value of regex will change from True to False in a future version. In addition, single character regular expressions will *not* be treated as literal strings when regex=True.\n",
      "  data.columns = data.columns.str.replace(\"}\",\"]\")\n",
      "/var/folders/t4/btbs8b8d5c3530kqrnyv6z1h0000gn/T/ipykernel_16567/30869090.py:21: FutureWarning: The default value of regex will change from True to False in a future version. In addition, single character regular expressions will *not* be treated as literal strings when regex=True.\n",
      "  data.columns = data.columns.str.replace(\")\",\"]\")\n",
      "/var/folders/t4/btbs8b8d5c3530kqrnyv6z1h0000gn/T/ipykernel_16567/30869090.py:22: FutureWarning: The default value of regex will change from True to False in a future version. In addition, single character regular expressions will *not* be treated as literal strings when regex=True.\n",
      "  data.columns = data.columns.str.replace(\"(\",\"[\")\n"
     ]
    },
    {
     "name": "stdout",
     "output_type": "stream",
     "text": [
      "writing /Users/esak/Projects/stock_traiding/forecast_indices/datasets/nasdaq/USTREASURY/MATDIS\n"
     ]
    },
    {
     "name": "stderr",
     "output_type": "stream",
     "text": [
      "22/10/27 16:05:53 WARN MemoryManager: Total allocation exceeds 95,00% (1 020 054 720 bytes) of heap memory\n",
      "Scaling row group sizes to 95,00% for 8 writers\n",
      "/var/folders/t4/btbs8b8d5c3530kqrnyv6z1h0000gn/T/ipykernel_16567/30869090.py:19: FutureWarning: The default value of regex will change from True to False in a future version. In addition, single character regular expressions will *not* be treated as literal strings when regex=True.\n",
      "  data.columns = data.columns.str.replace(\"{\",\"[\")\n",
      "/var/folders/t4/btbs8b8d5c3530kqrnyv6z1h0000gn/T/ipykernel_16567/30869090.py:20: FutureWarning: The default value of regex will change from True to False in a future version. In addition, single character regular expressions will *not* be treated as literal strings when regex=True.\n",
      "  data.columns = data.columns.str.replace(\"}\",\"]\")\n",
      "/var/folders/t4/btbs8b8d5c3530kqrnyv6z1h0000gn/T/ipykernel_16567/30869090.py:21: FutureWarning: The default value of regex will change from True to False in a future version. In addition, single character regular expressions will *not* be treated as literal strings when regex=True.\n",
      "  data.columns = data.columns.str.replace(\")\",\"]\")\n",
      "/var/folders/t4/btbs8b8d5c3530kqrnyv6z1h0000gn/T/ipykernel_16567/30869090.py:22: FutureWarning: The default value of regex will change from True to False in a future version. In addition, single character regular expressions will *not* be treated as literal strings when regex=True.\n",
      "  data.columns = data.columns.str.replace(\"(\",\"[\")\n"
     ]
    },
    {
     "name": "stdout",
     "output_type": "stream",
     "text": [
      "writing /Users/esak/Projects/stock_traiding/forecast_indices/datasets/nasdaq/USTREASURY/MKTDM\n"
     ]
    },
    {
     "name": "stderr",
     "output_type": "stream",
     "text": [
      "/var/folders/t4/btbs8b8d5c3530kqrnyv6z1h0000gn/T/ipykernel_16567/30869090.py:19: FutureWarning: The default value of regex will change from True to False in a future version. In addition, single character regular expressions will *not* be treated as literal strings when regex=True.\n",
      "  data.columns = data.columns.str.replace(\"{\",\"[\")\n",
      "/var/folders/t4/btbs8b8d5c3530kqrnyv6z1h0000gn/T/ipykernel_16567/30869090.py:20: FutureWarning: The default value of regex will change from True to False in a future version. In addition, single character regular expressions will *not* be treated as literal strings when regex=True.\n",
      "  data.columns = data.columns.str.replace(\"}\",\"]\")\n",
      "/var/folders/t4/btbs8b8d5c3530kqrnyv6z1h0000gn/T/ipykernel_16567/30869090.py:21: FutureWarning: The default value of regex will change from True to False in a future version. In addition, single character regular expressions will *not* be treated as literal strings when regex=True.\n",
      "  data.columns = data.columns.str.replace(\")\",\"]\")\n",
      "/var/folders/t4/btbs8b8d5c3530kqrnyv6z1h0000gn/T/ipykernel_16567/30869090.py:22: FutureWarning: The default value of regex will change from True to False in a future version. In addition, single character regular expressions will *not* be treated as literal strings when regex=True.\n",
      "  data.columns = data.columns.str.replace(\"(\",\"[\")\n"
     ]
    },
    {
     "name": "stdout",
     "output_type": "stream",
     "text": [
      "writing /Users/esak/Projects/stock_traiding/forecast_indices/datasets/nasdaq/USTREASURY/REALLONGTERM\n"
     ]
    },
    {
     "name": "stderr",
     "output_type": "stream",
     "text": [
      "/var/folders/t4/btbs8b8d5c3530kqrnyv6z1h0000gn/T/ipykernel_16567/30869090.py:19: FutureWarning: The default value of regex will change from True to False in a future version. In addition, single character regular expressions will *not* be treated as literal strings when regex=True.\n",
      "  data.columns = data.columns.str.replace(\"{\",\"[\")\n",
      "/var/folders/t4/btbs8b8d5c3530kqrnyv6z1h0000gn/T/ipykernel_16567/30869090.py:20: FutureWarning: The default value of regex will change from True to False in a future version. In addition, single character regular expressions will *not* be treated as literal strings when regex=True.\n",
      "  data.columns = data.columns.str.replace(\"}\",\"]\")\n",
      "/var/folders/t4/btbs8b8d5c3530kqrnyv6z1h0000gn/T/ipykernel_16567/30869090.py:21: FutureWarning: The default value of regex will change from True to False in a future version. In addition, single character regular expressions will *not* be treated as literal strings when regex=True.\n",
      "  data.columns = data.columns.str.replace(\")\",\"]\")\n",
      "/var/folders/t4/btbs8b8d5c3530kqrnyv6z1h0000gn/T/ipykernel_16567/30869090.py:22: FutureWarning: The default value of regex will change from True to False in a future version. In addition, single character regular expressions will *not* be treated as literal strings when regex=True.\n",
      "  data.columns = data.columns.str.replace(\"(\",\"[\")\n"
     ]
    },
    {
     "name": "stdout",
     "output_type": "stream",
     "text": [
      "writing /Users/esak/Projects/stock_traiding/forecast_indices/datasets/nasdaq/USTREASURY/REALYIELD\n"
     ]
    },
    {
     "name": "stderr",
     "output_type": "stream",
     "text": [
      "/var/folders/t4/btbs8b8d5c3530kqrnyv6z1h0000gn/T/ipykernel_16567/30869090.py:19: FutureWarning: The default value of regex will change from True to False in a future version. In addition, single character regular expressions will *not* be treated as literal strings when regex=True.\n",
      "  data.columns = data.columns.str.replace(\"{\",\"[\")\n",
      "/var/folders/t4/btbs8b8d5c3530kqrnyv6z1h0000gn/T/ipykernel_16567/30869090.py:20: FutureWarning: The default value of regex will change from True to False in a future version. In addition, single character regular expressions will *not* be treated as literal strings when regex=True.\n",
      "  data.columns = data.columns.str.replace(\"}\",\"]\")\n",
      "/var/folders/t4/btbs8b8d5c3530kqrnyv6z1h0000gn/T/ipykernel_16567/30869090.py:21: FutureWarning: The default value of regex will change from True to False in a future version. In addition, single character regular expressions will *not* be treated as literal strings when regex=True.\n",
      "  data.columns = data.columns.str.replace(\")\",\"]\")\n",
      "/var/folders/t4/btbs8b8d5c3530kqrnyv6z1h0000gn/T/ipykernel_16567/30869090.py:22: FutureWarning: The default value of regex will change from True to False in a future version. In addition, single character regular expressions will *not* be treated as literal strings when regex=True.\n",
      "  data.columns = data.columns.str.replace(\"(\",\"[\")\n"
     ]
    },
    {
     "name": "stdout",
     "output_type": "stream",
     "text": [
      "writing /Users/esak/Projects/stock_traiding/forecast_indices/datasets/nasdaq/USTREASURY/TMBOR\n"
     ]
    },
    {
     "name": "stderr",
     "output_type": "stream",
     "text": [
      "/var/folders/t4/btbs8b8d5c3530kqrnyv6z1h0000gn/T/ipykernel_16567/30869090.py:19: FutureWarning: The default value of regex will change from True to False in a future version. In addition, single character regular expressions will *not* be treated as literal strings when regex=True.\n",
      "  data.columns = data.columns.str.replace(\"{\",\"[\")\n",
      "/var/folders/t4/btbs8b8d5c3530kqrnyv6z1h0000gn/T/ipykernel_16567/30869090.py:20: FutureWarning: The default value of regex will change from True to False in a future version. In addition, single character regular expressions will *not* be treated as literal strings when regex=True.\n",
      "  data.columns = data.columns.str.replace(\"}\",\"]\")\n",
      "/var/folders/t4/btbs8b8d5c3530kqrnyv6z1h0000gn/T/ipykernel_16567/30869090.py:21: FutureWarning: The default value of regex will change from True to False in a future version. In addition, single character regular expressions will *not* be treated as literal strings when regex=True.\n",
      "  data.columns = data.columns.str.replace(\")\",\"]\")\n",
      "/var/folders/t4/btbs8b8d5c3530kqrnyv6z1h0000gn/T/ipykernel_16567/30869090.py:22: FutureWarning: The default value of regex will change from True to False in a future version. In addition, single character regular expressions will *not* be treated as literal strings when regex=True.\n",
      "  data.columns = data.columns.str.replace(\"(\",\"[\")\n"
     ]
    },
    {
     "name": "stdout",
     "output_type": "stream",
     "text": [
      "writing /Users/esak/Projects/stock_traiding/forecast_indices/datasets/nasdaq/USTREASURY/TNMBOR\n"
     ]
    },
    {
     "name": "stderr",
     "output_type": "stream",
     "text": [
      "/var/folders/t4/btbs8b8d5c3530kqrnyv6z1h0000gn/T/ipykernel_16567/30869090.py:19: FutureWarning: The default value of regex will change from True to False in a future version. In addition, single character regular expressions will *not* be treated as literal strings when regex=True.\n",
      "  data.columns = data.columns.str.replace(\"{\",\"[\")\n",
      "/var/folders/t4/btbs8b8d5c3530kqrnyv6z1h0000gn/T/ipykernel_16567/30869090.py:20: FutureWarning: The default value of regex will change from True to False in a future version. In addition, single character regular expressions will *not* be treated as literal strings when regex=True.\n",
      "  data.columns = data.columns.str.replace(\"}\",\"]\")\n",
      "/var/folders/t4/btbs8b8d5c3530kqrnyv6z1h0000gn/T/ipykernel_16567/30869090.py:21: FutureWarning: The default value of regex will change from True to False in a future version. In addition, single character regular expressions will *not* be treated as literal strings when regex=True.\n",
      "  data.columns = data.columns.str.replace(\")\",\"]\")\n",
      "/var/folders/t4/btbs8b8d5c3530kqrnyv6z1h0000gn/T/ipykernel_16567/30869090.py:22: FutureWarning: The default value of regex will change from True to False in a future version. In addition, single character regular expressions will *not* be treated as literal strings when regex=True.\n",
      "  data.columns = data.columns.str.replace(\"(\",\"[\")\n"
     ]
    },
    {
     "name": "stdout",
     "output_type": "stream",
     "text": [
      "writing /Users/esak/Projects/stock_traiding/forecast_indices/datasets/nasdaq/USTREASURY/YIELD\n"
     ]
    }
   ],
   "source": [
    "calls = 0\n",
    "if calls == 20:\n",
    "    print(\"sleeping 10 minutes...\")\n",
    "    sleep(60*10) #sleep for 10minutes\n",
    "    calls = 0\n",
    "    \n",
    "for f in metadata_files:\n",
    "    metadata = pd.read_csv(f)\n",
    "    data_name=f.split(\"_\")[1].split(\"/\")[1]\n",
    "    for code in metadata.loc[5:,\"code\"]:\n",
    "        data_path = \"{0}/{1}\".format(data_name,code)\n",
    "        data = nasdaqdatalink.get(data_path)\n",
    "        data = data.astype(float)\n",
    "        data.index.rename(\"Datetime\",inplace = True)\n",
    "        data = data.reset_index()\n",
    "        data.columns = data.columns.str.replace(\";\",\"\")\n",
    "        data.columns = data.columns.str.replace(\" \",\"\")\n",
    "        data.columns = data.columns.str.replace(\",\",\".\")\n",
    "        data.columns = data.columns.str.replace(\"{\",\"[\")\n",
    "        data.columns = data.columns.str.replace(\"}\",\"]\")\n",
    "        data.columns = data.columns.str.replace(\")\",\"]\")\n",
    "        data.columns = data.columns.str.replace(\"(\",\"[\")\n",
    "        if code == 'MATDIS':\n",
    "            data.columns = ['Datetime','TotalOutstanding[bln]','1Year','1Year_%','1-5Years','1-5Years_%','5-10Years','5-10Years_%','10-20Years','%_10-20Years','20+Years','%_20+Years','AvgLength[months]']\n",
    "        \n",
    "        data = ps.from_pandas(data).to_spark()\n",
    "\n",
    "        fn = nasdaq_path+\"/\"+data_path\n",
    "        \n",
    "        print(\"writing {0}\".format(fn))\n",
    "        data.write.format(\"delta\").mode(\"overwrite\").save(fn)\n",
    "        calls += 1\n",
    "    "
   ]
  },
  {
   "cell_type": "code",
   "execution_count": null,
   "id": "8477a542-3ef2-442c-a6f8-20e7e30d6f50",
   "metadata": {},
   "outputs": [],
   "source": [
    "data.columns = ['TotalOutstanding[bln]','1Year','1Year_%','1-5Years','1-5Years_%','5-10Years','5-10Years_%','10-20Years','%_10-20Years','20+Years','%_20+Years','AvgLength[months]']"
   ]
  },
  {
   "cell_type": "code",
   "execution_count": null,
   "id": "596b12b5-f655-476f-8a61-f86ac3d899f4",
   "metadata": {},
   "outputs": [],
   "source": [
    "        data = ps.from_pandas(data).to_spark()\n",
    "\n",
    "        fn = nasdaq_path+\"/\"+data_path\n",
    "        \n",
    "        print(\"writing {0}\".format(fn))\n",
    "        data.write.format(\"delta\").mode(\"overwrite\").save(fn)"
   ]
  },
  {
   "cell_type": "code",
   "execution_count": null,
   "id": "2d6f40ca-0a80-4448-8243-54a32fccf035",
   "metadata": {},
   "outputs": [],
   "source": [
    "data.write.format(\"delta\").mode(\"overwrite\").save(fn)"
   ]
  },
  {
   "cell_type": "code",
   "execution_count": null,
   "id": "6c1e2709-a2a3-4241-8f95-59aee585f801",
   "metadata": {},
   "outputs": [],
   "source": [
    "metadata.columns = ['code_test', 'name', 'description', 'refreshed_at', 'from_date', 'to_date']"
   ]
  },
  {
   "cell_type": "code",
   "execution_count": null,
   "id": "f3739b01-c735-4c7f-8088-7e5db335b823",
   "metadata": {},
   "outputs": [],
   "source": [
    "metadata.columns.str.strip(\"_\")"
   ]
  },
  {
   "cell_type": "code",
   "execution_count": null,
   "id": "cc591071-00c7-4ce6-95fe-6d84b0a9cdd1",
   "metadata": {},
   "outputs": [],
   "source": [
    "metadata.columns = metadata.columns.str.replace(\"_\",\"\")"
   ]
  },
  {
   "cell_type": "code",
   "execution_count": null,
   "id": "37d6db75-fd4a-4af1-8969-1d3dbba375ca",
   "metadata": {},
   "outputs": [],
   "source": [
    "metadata"
   ]
  },
  {
   "cell_type": "code",
   "execution_count": 11,
   "id": "f2478b75-7b4a-48fb-88e7-3098de6d98d7",
   "metadata": {},
   "outputs": [
    {
     "name": "stdout",
     "output_type": "stream",
     "text": [
      "+-------------------+----+----+----+----+----+----+----+----+----+----+----+----+\n",
      "|           Datetime| 1MO| 2MO| 3MO| 6MO| 1YR| 2YR| 3YR| 5YR| 7YR|10YR|20YR|30YR|\n",
      "+-------------------+----+----+----+----+----+----+----+----+----+----+----+----+\n",
      "|1990-01-02 00:00:00|null|null|7.83|7.89|7.81|7.87| 7.9|7.87|7.98|7.94|null| 8.0|\n",
      "|1990-01-03 00:00:00|null|null|7.89|7.94|7.85|7.94|7.96|7.92|8.04|7.99|null|8.04|\n",
      "|1990-01-04 00:00:00|null|null|7.84| 7.9|7.82|7.92|7.93|7.91|8.02|7.98|null|8.04|\n",
      "|1990-01-05 00:00:00|null|null|7.79|7.85|7.79| 7.9|7.94|7.92|8.03|7.99|null|8.06|\n",
      "|1990-01-08 00:00:00|null|null|7.79|7.88|7.81| 7.9|7.95|7.92|8.05|8.02|null|8.09|\n",
      "|1990-01-09 00:00:00|null|null| 7.8|7.82|7.78|7.91|7.94|7.92|8.05|8.02|null| 8.1|\n",
      "|1990-01-10 00:00:00|null|null|7.75|7.78|7.77|7.91|7.95|7.92| 8.0|8.03|null|8.11|\n",
      "|1990-01-11 00:00:00|null|null| 7.8| 7.8|7.77|7.91|7.95|7.94|8.01|8.04|null|8.11|\n",
      "|1990-01-12 00:00:00|null|null|7.74|7.81|7.76|7.93|7.98|7.99|8.07| 8.1|null|8.17|\n",
      "|1990-01-16 00:00:00|null|null|7.89|7.99|7.92| 8.1|8.13|8.11|8.18| 8.2|null|8.25|\n",
      "|1990-01-17 00:00:00|null|null|7.97|7.97|7.91|8.09|8.11|8.11|8.17|8.19|null|8.25|\n",
      "|1990-01-18 00:00:00|null|null|8.04|8.08|8.05|8.25|8.28|8.27|8.31|8.32|null|8.35|\n",
      "|1990-01-19 00:00:00|null|null| 8.0|8.01| 8.0| 8.2|8.23| 8.2|8.24|8.26|null|8.29|\n",
      "|1990-01-22 00:00:00|null|null|7.99|7.99|7.98|8.18| 8.2|8.19|8.25|8.27|null|8.31|\n",
      "|1990-01-23 00:00:00|null|null|7.93|7.97|7.97|8.18| 8.2|8.18|8.23|8.26|null|8.29|\n",
      "|1990-01-24 00:00:00|null|null|7.93|7.99| 8.0| 8.2|8.29|8.28|8.34|8.38|null|8.41|\n",
      "|1990-01-25 00:00:00|null|null|7.95|8.01|8.03|8.24|8.32|8.31|8.39|8.42|null|8.46|\n",
      "|1990-01-26 00:00:00|null|null|7.93|8.04|8.07|8.28|8.38|8.38|8.45|8.49|null|8.55|\n",
      "|1990-01-29 00:00:00|null|null| 8.0|8.09|8.08| 8.3|8.39|8.39|8.45| 8.5|null|8.54|\n",
      "|1990-01-30 00:00:00|null|null| 8.0|8.14|8.09| 8.3|8.39|8.43|8.47|8.51|null|8.55|\n",
      "+-------------------+----+----+----+----+----+----+----+----+----+----+----+----+\n",
      "only showing top 20 rows\n",
      "\n"
     ]
    }
   ],
   "source": [
    "data.show()"
   ]
  },
  {
   "cell_type": "code",
   "execution_count": null,
   "id": "7572ebd4-fde3-4d54-8eba-a1cd15592b1b",
   "metadata": {},
   "outputs": [],
   "source": []
  }
 ],
 "metadata": {
  "kernelspec": {
   "display_name": "Python 3 (ipykernel)",
   "language": "python",
   "name": "python3"
  },
  "language_info": {
   "codemirror_mode": {
    "name": "ipython",
    "version": 3
   },
   "file_extension": ".py",
   "mimetype": "text/x-python",
   "name": "python",
   "nbconvert_exporter": "python",
   "pygments_lexer": "ipython3",
   "version": "3.9.13"
  }
 },
 "nbformat": 4,
 "nbformat_minor": 5
}
