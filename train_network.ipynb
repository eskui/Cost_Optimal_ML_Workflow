{
 "cells": [
  {
   "cell_type": "code",
   "execution_count": 1,
   "id": "9f6cd836-bdf7-430b-8ae0-00e0faf6b09e",
   "metadata": {},
   "outputs": [],
   "source": [
    "import numpy as np\n",
    "import pandas as pd\n",
    "import os\n",
    "import tensorflow as tf\n",
    "from datetime import datetime\n",
    "from datetime import timedelta\n",
    "#import re\n",
    "#import matplotlib.pyplot as plt\n",
    "import support.ts_class as ts_class\n",
    "import support.load_and_process_data as lpdata\n",
    "import math"
   ]
  },
  {
   "cell_type": "code",
   "execution_count": 2,
   "id": "42050864-f727-4877-a400-f75618efbfa1",
   "metadata": {},
   "outputs": [],
   "source": [
    "import pyarrow.parquet as pq"
   ]
  },
  {
   "cell_type": "code",
   "execution_count": 36,
   "id": "571a89da-a825-44d0-a3e9-815051213cdf",
   "metadata": {},
   "outputs": [],
   "source": [
    "train_years = list(range(2017,2021))\n",
    "val_year = [2021]\n",
    "test_year = [2022]\n",
    "\n",
    "MAX_EPOCHS = 1\n",
    "WIND_SIZE = 3\n",
    "LABELS_TO_PREDITC = ['MSFT_Close']"
   ]
  },
  {
   "cell_type": "code",
   "execution_count": 27,
   "id": "08fbc9ca-340a-43b1-bfb4-4713174bb347",
   "metadata": {},
   "outputs": [],
   "source": [
    "#n = len(vbs)\n",
    "\n",
    "train_set = pq.read_table('./train_data', filters=[('year','in',train_years)])\\\n",
    "    .to_pandas()\\\n",
    "    .drop(columns = [\"year\"])\\\n",
    "    .set_index(\"Datetime\")\n",
    "\n",
    "\n",
    "val_set = pq.read_table('./train_data', filters=[('year','in',val_year)])\\\n",
    "    .to_pandas()\\\n",
    "    .drop(columns = [\"year\"])\\\n",
    "    .set_index(\"Datetime\")\n",
    "\n",
    "test_set = pq.read_table('./train_data', filters=[('year','in',test_year)])\\\n",
    "    .to_pandas()\\\n",
    "    .drop(columns = [\"year\"])\\\n",
    "    .set_index(\"Datetime\")\n"
   ]
  },
  {
   "cell_type": "code",
   "execution_count": 28,
   "id": "c5b80d9d-dbb7-487b-a1eb-b6254b494292",
   "metadata": {},
   "outputs": [
    {
     "name": "stdout",
     "output_type": "stream",
     "text": [
      "(2103845, 286)\n",
      "(525600, 286)\n",
      "(396322, 286)\n"
     ]
    }
   ],
   "source": [
    "#print(n)\n",
    "print(train_set.shape)\n",
    "print(val_set.shape)\n",
    "print(test_set.shape)"
   ]
  },
  {
   "cell_type": "code",
   "execution_count": 29,
   "id": "1d0d590f-d7e1-4be4-a795-c552e4759138",
   "metadata": {},
   "outputs": [],
   "source": [
    "def compile_and_fit(model, window, max_epochs = MAX_EPOCHS):\n",
    "    early_stopping = tf.keras.callbacks.EarlyStopping(monitor='val_loss', mode='min', patience = 10, restore_best_weights = True)\n",
    "\n",
    "    model.compile(loss=tf.losses.MeanSquaredError(),optimizer=tf.optimizers.Adam(),metrics=[tf.metrics.MeanAbsoluteError()])\n",
    "\n",
    "    history = model.fit(window.train, epochs=max_epochs,validation_data=window.val, callbacks=[early_stopping])\n",
    "    return history"
   ]
  },
  {
   "cell_type": "code",
   "execution_count": 33,
   "id": "d1cb6ad5-2bee-4d75-83c0-4301a1bd2b0c",
   "metadata": {},
   "outputs": [
    {
     "data": {
      "text/plain": [
       "Total window size: 16\n",
       "Input indices: [ 0  1  2  3  4  5  6  7  8  9 10 11 12 13 14]\n",
       "Label indices: [15]\n",
       "Label column name(s): ['MSFT_Close']"
      ]
     },
     "execution_count": 33,
     "metadata": {},
     "output_type": "execute_result"
    }
   ],
   "source": [
    "day_window = ts_class.WindowGenerator(input_width=WIND_SIZE, label_width=1, shift=1,label_columns=['MSFT_Close'],train_df=train_set, val_df=val_set, test_df=test_set)\n",
    "day_window"
   ]
  },
  {
   "cell_type": "code",
   "execution_count": 40,
   "id": "9e26cae7-f3c0-49b6-9a9c-d5ac765cd47b",
   "metadata": {},
   "outputs": [],
   "source": [
    "conv_model = tf.keras.Sequential([\n",
    "    tf.keras.layers.Conv1D(filters=32,\n",
    "                           kernel_size=(WIND_SIZE,),\n",
    "                           activation='relu'),\n",
    "    tf.keras.layers.Dense(units=32, activation='relu'),\n",
    "    tf.keras.layers.Dense(units=1),\n",
    "])"
   ]
  },
  {
   "cell_type": "code",
   "execution_count": 30,
   "id": "63320344-a90c-421f-962a-e2cecd1db38f",
   "metadata": {},
   "outputs": [],
   "source": [
    "lstm_model = tf.keras.models.Sequential([\n",
    "    # Shape [batch, time, features] => [batch, time, lstm_units]\n",
    "    tf.keras.layers.LSTM(32, return_sequences=False),\n",
    "    # Shape => [batch, time, features]\n",
    "    tf.keras.layers.Dense(units=1)\n",
    "])"
   ]
  },
  {
   "cell_type": "code",
   "execution_count": 41,
   "id": "3005e16a-87c7-47f4-9c6e-4e56f42b9b7d",
   "metadata": {},
   "outputs": [
    {
     "name": "stdout",
     "output_type": "stream",
     "text": [
      "65745/65745 [==============================] - 171s 3ms/step - loss: 2.3661e-04 - mean_absolute_error: 0.0026 - val_loss: 0.0021 - val_mean_absolute_error: 0.0310\n"
     ]
    }
   ],
   "source": [
    "history = compile_and_fit(conv_model, day_window)"
   ]
  }
 ],
 "metadata": {
  "kernelspec": {
   "display_name": "Python 3",
   "language": "python",
   "name": "python3"
  },
  "language_info": {
   "codemirror_mode": {
    "name": "ipython",
    "version": 3
   },
   "file_extension": ".py",
   "mimetype": "text/x-python",
   "name": "python",
   "nbconvert_exporter": "python",
   "pygments_lexer": "ipython3",
   "version": "3.8.5"
  }
 },
 "nbformat": 4,
 "nbformat_minor": 5
}
